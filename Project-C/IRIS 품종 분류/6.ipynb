{
 "cells": [
  {
   "cell_type": "code",
   "execution_count": null,
   "metadata": {},
   "outputs": [],
   "source": [
    "import pandas as pd\n",
    "\n",
    "train = pd.read_csv('train.csv')\n",
    "test = pd.read_csv('test.csv')\n",
    "submission = pd.read_csv('sample_submission.csv')\n",
    "\n",
    "feature_names = {\n",
    "    'sepal length (cm)': 'sepal_length',\n",
    "    'petal length (cm)': 'petal_length',\n",
    "    'sepal width (cm)': 'sepal_width',\n",
    "    'petal width (cm)': 'petal_width'\n",
    "}\n",
    "train = train.rename(columns=feature_names)\n",
    "test = test.rename(columns=feature_names)\n",
    "\n",
    "print('train 데이터 개수: ', len(train))\n",
    "print('test 데이터 개수: ', len(test))\n",
    "print('submission 데이터 개수: ', len(submission))\n",
    "\n",
    "feature_names = [ 'petal_length', 'sepal_width', 'petal_width']\n",
    "train_x = train[feature_names]\n",
    "train_y = train['species']"
   ]
  },
  {
   "cell_type": "code",
   "execution_count": null,
   "metadata": {},
   "outputs": [],
   "source": [
    "from sklearn.tree import DecisionTreeClassifier\n",
    "\n",
    "model = DecisionTreeClassifier(max_depth=5, random_state=32)\n",
    "model.fit(train_x, train_y)"
   ]
  },
  {
   "cell_type": "code",
   "execution_count": null,
   "metadata": {},
   "outputs": [],
   "source": [
    "feature_names = ['petal_length', 'sepal_width', 'petal_width']\n",
    "test_x = test[feature_names]\n",
    "\n",
    "pred = model.predict(test_x)\n",
    "pred"
   ]
  },
  {
   "cell_type": "code",
   "execution_count": null,
   "metadata": {},
   "outputs": [],
   "source": [
    "submission['species'] = pred\n",
    "submission.head(10)"
   ]
  },
  {
   "cell_type": "code",
   "execution_count": null,
   "metadata": {},
   "outputs": [],
   "source": [
    "submission.to_csv('submission.csv', index=False)"
   ]
  }
 ],
 "metadata": {
  "language_info": {
   "name": "python"
  }
 },
 "nbformat": 4,
 "nbformat_minor": 2
}
