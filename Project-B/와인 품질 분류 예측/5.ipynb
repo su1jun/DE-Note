{
 "cells": [
  {
   "cell_type": "markdown",
   "metadata": {},
   "source": [
    "### 5. "
   ]
  },
  {
   "cell_type": "markdown",
   "metadata": {},
   "source": [
    "### 1. 데이터 읽어오기"
   ]
  },
  {
   "cell_type": "code",
   "execution_count": null,
   "metadata": {},
   "outputs": [],
   "source": [
    "import pandas as pd\n",
    "\n",
    "train = pd.read_csv('train.csv')\n",
    "test = pd.read_csv('test.csv')\n",
    "submission = pd.read_csv('sample_submission.csv')"
   ]
  },
  {
   "cell_type": "markdown",
   "metadata": {},
   "source": [
    "### 2. 데이터 확인"
   ]
  },
  {
   "cell_type": "code",
   "execution_count": null,
   "metadata": {},
   "outputs": [],
   "source": [
    "# 파이썬 warning 무시\n",
    "import warnings\n",
    "warnings.simplefilter(action='ignore', category=FutureWarning)\n",
    "\n",
    "# 시각화를 위한 라이브러리\n",
    "import matplotlib.pyplot as plt\n",
    "import matplotlib.font_manager as fm\n",
    "\n",
    "# 한글 폰트를 사용하기 위한 코드\n",
    "fe = fm.FontEntry(fname = 'NotoSansKR-Regular.otf', name = 'NotoSansKR')\n",
    "fm.fontManager.ttflist.insert(0, fe)\n",
    "plt.rc('font', family='NotoSansKR')"
   ]
  },
  {
   "cell_type": "code",
   "execution_count": null,
   "metadata": {},
   "outputs": [],
   "source": [
    "import seaborn as sns\n",
    "\n",
    "features = ['fixed acidity', 'volatile acidity', 'citric acid',\n",
    "       'residual sugar', 'chlorides', 'free sulfur dioxide',\n",
    "       'total sulfur dioxide', 'density', 'pH', 'sulphates', 'alcohol',\n",
    "       'type']\n",
    "\n",
    "plt.figure(figsize=(10,5))\n",
    "ax = sns.heatmap(train[list(features) + ['quality']].corr(), annot=True)\n",
    "plt.show()"
   ]
  },
  {
   "cell_type": "code",
   "execution_count": null,
   "metadata": {},
   "outputs": [],
   "source": [
    "white = train[train['type'] == 'white']\n",
    "red = train[train['type'] == 'red']\n",
    "\n",
    "print('화이트 와인 데이터 개수 : ', white.shape[0])\n",
    "print('레드와인 와인 데이터 개수 : ', red.shape[0])"
   ]
  },
  {
   "cell_type": "code",
   "execution_count": null,
   "metadata": {},
   "outputs": [],
   "source": [
    "plt.style.use(\"ggplot\")\n",
    "\n",
    "sns.countplot(data=train, x='type', hue='quality')\n",
    "plt.title(\"와인 type에 따른 품질등급별 데이터 개수\") \n",
    "plt.show()"
   ]
  },
  {
   "cell_type": "code",
   "execution_count": null,
   "metadata": {},
   "outputs": [],
   "source": [
    "plt.style.use(\"ggplot\")\n",
    "\n",
    "plt.figure(figsize=(6,4))\n",
    "plt.suptitle(\"white / red\", fontsize=20)\n",
    "\n",
    "## white\n",
    "plt.subplot(1,2,1)\n",
    "sns.barplot(x = white['quality'].value_counts().index, y = white['quality'].value_counts())\n",
    "\n",
    "## red\n",
    "plt.subplot(1,2,2)\n",
    "sns.barplot(x = red['quality'].value_counts().index, y = red['quality'].value_counts())\n",
    "plt.show()"
   ]
  },
  {
   "cell_type": "code",
   "execution_count": null,
   "metadata": {},
   "outputs": [],
   "source": [
    "total_count = sum(train['total sulfur dioxide'] >= train['free sulfur dioxide'])\n",
    "same_count =  sum(train['total sulfur dioxide'] == train['total sulfur dioxide'])\n",
    "sulfur_count = sum(train['total sulfur dioxide'] <= train['free sulfur dioxide'])              \n",
    "\n",
    "print('total > free에 해당하는 개수 :', total_count)\n",
    "print('두 변수가 같은 경우의 개수 :', same_count)\n",
    "print('total < free에 해당하는 개수 :', sulfur_count)"
   ]
  },
  {
   "cell_type": "code",
   "execution_count": null,
   "metadata": {},
   "outputs": [],
   "source": [
    "train['free et sulfur dioxid'] = train['total sulfur dioxide'] - train['free sulfur dioxide']   \n",
    "test['free et sulfur dioxid'] = test['total sulfur dioxide'] - test['free sulfur dioxide']    "
   ]
  },
  {
   "cell_type": "code",
   "execution_count": null,
   "metadata": {},
   "outputs": [],
   "source": [
    "train = train.drop(['total sulfur dioxide'], axis = 1)   \n",
    "test = test.drop(['total sulfur dioxide'], axis = 1)"
   ]
  },
  {
   "cell_type": "markdown",
   "metadata": {},
   "source": [
    "### 3. 데이터 전처리"
   ]
  },
  {
   "cell_type": "code",
   "execution_count": null,
   "metadata": {},
   "outputs": [],
   "source": [
    "train['type'] = train['type'].apply(lambda x : 0 if x == 'white' else 1)\n",
    "test['type'] = test['type'].apply(lambda x : 0 if x == 'white' else 1)"
   ]
  },
  {
   "cell_type": "code",
   "execution_count": null,
   "metadata": {},
   "outputs": [],
   "source": [
    "from sklearn.preprocessing import MinMaxScaler\n",
    "\n",
    "features = ['fixed acidity', 'volatile acidity', 'citric acid',       \n",
    "       'residual sugar', 'chlorides', 'free sulfur dioxide',         \n",
    "       'free et sulfur dioxid', 'density', 'pH', 'sulphates', 'alcohol']        \n",
    "\n",
    "scaler = MinMaxScaler()          \n",
    "scaler.fit(train[features])          \n",
    "train[features] = scaler.transform(train[features])\n",
    "test[features] = scaler.transform(test[features])"
   ]
  },
  {
   "cell_type": "code",
   "execution_count": null,
   "metadata": {},
   "outputs": [],
   "source": [
    "features = train.column[2:]\n",
    "\n",
    "X = train[features]\n",
    "y = train[features]"
   ]
  },
  {
   "cell_type": "code",
   "execution_count": null,
   "metadata": {},
   "outputs": [],
   "source": [
    "import numpy as np\n",
    "\n",
    "##### 평가산식 : ACCURACY(정확도) #####\n",
    "def ACC(y_true, pred):   \n",
    "    score = np.mean(y_true==pred)\n",
    "    return score\n",
    "\n",
    "##### 모델 검증 시각화 #####\n",
    "def make_plot(y_true, pred):\n",
    "    \n",
    "    acc = ACC(y_true, pred)\n",
    "    df_validation = pd.DataFrame({'y_true':y_true, 'y_pred':pred})\n",
    "\n",
    "    # 검증 데이터 정답지('y_true') 빈도수 (sorted)\n",
    "    df_validation_count = pd.DataFrame(df_validation['y_true'].value_counts().sort_index())\n",
    "    # 검증 데이터 예측치('y_pred') 빈도수 (sorted)\n",
    "    df_pred_count =  pd.DataFrame(df_validation['y_pred'].value_counts().sort_index())\n",
    "\n",
    "    # pd.concat - 검증 데이타 정답지, 예측치 빈도수 합치기\n",
    "    df_val_pred_count = pd.concat([df_validation_count,df_pred_count], axis=1).fillna(0)\n",
    "\n",
    "    ############################################################\n",
    "    # 그래프 그리기\n",
    "    ############################################################\n",
    "    \n",
    "    x = df_validation_count.index\n",
    "    y_true_count = df_val_pred_count['y_true']\n",
    "    y_pred_count = df_val_pred_count['y_pred']\n",
    "\n",
    "    width = 0.35\n",
    "    plt.figure(figsize=(5,3),dpi=150)\n",
    "\n",
    "    plt.title('ACC : ' + str(acc)[:6])\n",
    "    plt.xlabel('quality')\n",
    "    plt.ylabel('count')\n",
    "\n",
    "    p1 = plt.bar([idx-width/2 for idx in x], y_true_count, width, label='real')\n",
    "    p2 = plt.bar([idx+width/2 for idx in x], y_pred_count,  width, label='pred')\n",
    "\n",
    "    plt.legend()\n",
    "    plt.show()"
   ]
  },
  {
   "cell_type": "markdown",
   "metadata": {},
   "source": [
    "### 4. 데이터 학습"
   ]
  },
  {
   "cell_type": "code",
   "execution_count": null,
   "metadata": {},
   "outputs": [],
   "source": [
    "from sklearn.model_selection import StratifiedKFold\n",
    "from sklearn.ensemble import RandomForestClassifier\n",
    "\n",
    "kfold = StratifiedKFold(n_splits=5, shuffle = True, random_state=42)\n",
    "\n",
    "models = []\n",
    "\n",
    "i=0\n",
    "\n",
    "for train_idx, valid_idx in kfold.split(X, y):\n",
    "    X_train, X_valid = X.iloc[train_idx], X.iloc[valid_idx]\n",
    "    y_train, y_valid = y.iloc[train_idx], y.iloc[valid_idx]\n",
    "\n",
    "    model = RandomForestClassifier(random_state=42)\n",
    "\n",
    "    model.fit(X_train, y_train)\n",
    "\n",
    "    models.append(model)\n",
    "\n",
    "    predict = model.predict(X_valid)\n",
    "    print(models[i])\n",
    "    i += 1\n",
    "\n",
    "    make_plot(y_valid, predict)"
   ]
  },
  {
   "cell_type": "code",
   "execution_count": null,
   "metadata": {},
   "outputs": [],
   "source": [
    "predict = models[0].predict(test[features])\n",
    "predict[:10]"
   ]
  },
  {
   "cell_type": "code",
   "execution_count": null,
   "metadata": {},
   "outputs": [],
   "source": [
    "submission['quality'] = predict"
   ]
  },
  {
   "cell_type": "code",
   "execution_count": null,
   "metadata": {},
   "outputs": [],
   "source": [
    "pred0 = models[0].predict(test[features])       \n",
    "pred1 = models[1].predict(test[features])          \n",
    "pred2 = models[2].predict(test[features])          \n",
    "pred3 = models[3].predict(test[features])         \n",
    "pred4 = models[4].predict(test[features])"
   ]
  },
  {
   "cell_type": "code",
   "execution_count": null,
   "metadata": {},
   "outputs": [],
   "source": [
    "pred = pd.DataFrame({'pred0':pred0, 'pred1':pred1, 'pred2':pred2, 'pred3':pred3, 'pred4':pred4})\n",
    "pred"
   ]
  },
  {
   "cell_type": "code",
   "execution_count": null,
   "metadata": {},
   "outputs": [],
   "source": [
    "pred.mode(axis=1) "
   ]
  },
  {
   "cell_type": "code",
   "execution_count": null,
   "metadata": {},
   "outputs": [],
   "source": [
    "pred0 = models[0].predict_proba(test[features])\n",
    "pred1 = models[1].predict_proba(test[features])\n",
    "pred2 = models[2].predict_proba(test[features])\n",
    "pred3 = models[3].predict_proba(test[features])\n",
    "pred4 = models[4].predict_proba(test[features])\n",
    "\n",
    "pd.DataFrame((pred0))"
   ]
  },
  {
   "cell_type": "code",
   "execution_count": null,
   "metadata": {},
   "outputs": [],
   "source": [
    "pred = pd.DataFrame((pred0 + pred1 + pred2 + pred3 + pred4)/5)"
   ]
  },
  {
   "cell_type": "code",
   "execution_count": null,
   "metadata": {},
   "outputs": [],
   "source": [
    "pred = pd.DataFrame(np.array(pred).argmax(axis=1)+3)\n",
    "pred"
   ]
  },
  {
   "cell_type": "markdown",
   "metadata": {},
   "source": [
    "### 5. CSV파일로 저장"
   ]
  },
  {
   "cell_type": "code",
   "execution_count": null,
   "metadata": {},
   "outputs": [],
   "source": [
    "submission['next_arrive_time'] = predict\n",
    "submission.head()"
   ]
  },
  {
   "cell_type": "code",
   "execution_count": null,
   "metadata": {},
   "outputs": [],
   "source": [
    "submission.to_csv('submission.csv', index=False, quoting=2, encoding=\"utf-8-sig\", na_rep=0, float_format='%.6f')"
   ]
  }
 ],
 "metadata": {
  "kernelspec": {
   "display_name": "base",
   "language": "python",
   "name": "python3"
  },
  "language_info": {
   "codemirror_mode": {
    "name": "ipython",
    "version": 3
   },
   "file_extension": ".py",
   "mimetype": "text/x-python",
   "name": "python",
   "nbconvert_exporter": "python",
   "pygments_lexer": "ipython3",
   "version": "3.11.5"
  }
 },
 "nbformat": 4,
 "nbformat_minor": 2
}
