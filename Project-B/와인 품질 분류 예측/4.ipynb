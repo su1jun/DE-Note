{
 "cells": [
  {
   "cell_type": "markdown",
   "metadata": {},
   "source": [
    "### 4. "
   ]
  },
  {
   "cell_type": "markdown",
   "metadata": {},
   "source": [
    "### 1. 데이터 읽어오기"
   ]
  },
  {
   "cell_type": "code",
   "execution_count": null,
   "metadata": {},
   "outputs": [],
   "source": [
    "import pandas as pd\n",
    "\n",
    "train = pd.read_csv('train.csv')\n",
    "test = pd.read_csv('test.csv')      \n",
    "submission = pd.read_csv('sample_submission.csv')\n",
    "\n",
    "train.head(3)"
   ]
  },
  {
   "cell_type": "markdown",
   "metadata": {},
   "source": [
    "### 2. 데이터 확인"
   ]
  },
  {
   "cell_type": "code",
   "execution_count": null,
   "metadata": {},
   "outputs": [],
   "source": [
    "# 파이썬 warning 무시\n",
    "import warnings\n",
    "warnings.simplefilter(action='ignore', category=FutureWarning)\n",
    "\n",
    "# 시각화를 위한 라이브러리\n",
    "import matplotlib.pyplot as plt\n",
    "import matplotlib.font_manager as fm\n",
    "\n",
    "# 한글 폰트를 사용하기 위한 코드\n",
    "fe = fm.FontEntry(fname = 'NotoSansKR-Regular.otf', name = 'NotoSansKR')\n",
    "fm.fontManager.ttflist.insert(0, fe)\n",
    "plt.rc('font', family='NotoSansKR')"
   ]
  },
  {
   "cell_type": "code",
   "execution_count": null,
   "metadata": {},
   "outputs": [],
   "source": [
    "train['quality'].value_counts().sort_index()"
   ]
  },
  {
   "cell_type": "code",
   "execution_count": null,
   "metadata": {},
   "outputs": [],
   "source": [
    "x = train['quality'].value_counts().sort_index().index\n",
    "y = train['quality'].value_counts().sort_index().values\n",
    "\n",
    "plt.figure(figsize=(4,3), dpi=150)\n",
    "\n",
    "plt.title('와인 품질 분포')\n",
    "plt.xlabel('와인 품질')\n",
    "plt.ylabel('갯수')\n",
    "\n",
    "plt.bar(x,y)\n",
    "plt.show()"
   ]
  },
  {
   "cell_type": "markdown",
   "metadata": {},
   "source": [
    "### 3. 데이터 전처리"
   ]
  },
  {
   "cell_type": "code",
   "execution_count": null,
   "metadata": {},
   "outputs": [],
   "source": [
    "train['type'] = train['type'].apply(lambda x : 0 if x == 'white' else 1)\n",
    "train"
   ]
  },
  {
   "cell_type": "code",
   "execution_count": null,
   "metadata": {},
   "outputs": [],
   "source": [
    "from sklearn.preprocessing import MinMaxScaler\n",
    "\n",
    "scaler = MinMaxScaler()\n",
    "scaler.fit(train[train.columns[2:-1]])\n",
    "train[train.columns[2:-1]] = scaler.transform(train[train.columns[2:-1]])\n",
    "train"
   ]
  },
  {
   "cell_type": "code",
   "execution_count": null,
   "metadata": {},
   "outputs": [],
   "source": [
    "test['type'] = test['type'].apply(lambda x : 0 if x == 'white' else 1)\n",
    "test[test.columns[1:-1]] = scaler.transform(test[test.columns[1:-1]])\n",
    "test"
   ]
  },
  {
   "cell_type": "code",
   "execution_count": null,
   "metadata": {},
   "outputs": [],
   "source": [
    "features = train.columns[2:]\n",
    "\n",
    "X = train[features]\n",
    "y = train['quality']"
   ]
  },
  {
   "cell_type": "code",
   "execution_count": null,
   "metadata": {},
   "outputs": [],
   "source": [
    "from sklearn.model_selection import train_test_split\n",
    "\n",
    "X_train, X_valid, y_train, y_valid = train_test_split(X, y, test_size=0.1, shuffle=True)\n",
    "\n",
    "#데이터 shape 확인\n",
    "print(f\"X_train.shape : {X_train.shape}\")\n",
    "print(f\"y_train.shape : {y_train.shape}\")\n",
    "print(f\"X_valid.shape : {X_valid.shape}\")\n",
    "print(f\"y_valid.shape : {y_valid.shape}\")"
   ]
  },
  {
   "cell_type": "markdown",
   "metadata": {},
   "source": [
    "### 4. 데이터 학습"
   ]
  },
  {
   "cell_type": "code",
   "execution_count": null,
   "metadata": {},
   "outputs": [],
   "source": [
    "from sklearn.ensemble import RandomForestClassifier\n",
    "\n",
    "model = RandomForestClassifier(n_estimators=10, random_state=42)\n",
    "model.fit(X_train, y_train)\n",
    "predict = model.predict(X_valid)\n",
    "print(predict[:10])"
   ]
  },
  {
   "cell_type": "code",
   "execution_count": null,
   "metadata": {},
   "outputs": [],
   "source": [
    "import numpy as np\n",
    "\n",
    "def ACC(y_true, pred):   \n",
    "    score = np.mean(y_true==pred)\n",
    "    return score\n",
    "\n",
    "acc = ACC(y_valid, predict)\n",
    "\n",
    "print(f\"모델의 정확도는 {acc*100:.2f}%입니다.\")"
   ]
  },
  {
   "cell_type": "code",
   "execution_count": null,
   "metadata": {},
   "outputs": [],
   "source": [
    "import numpy as np\n",
    "\n",
    "##### 모델 검증 시각화 #####\n",
    "def make_plot(y_true, pred):\n",
    "    \n",
    "    acc = ACC(y_true, pred)\n",
    "    df_validation = pd.DataFrame({'y_true':y_true, 'y_pred':pred})\n",
    "\n",
    "    # 검증 데이터 정답지('y_true') 빈도수 (sorted)\n",
    "    df_validation_count = pd.DataFrame(df_validation['y_true'].value_counts().sort_index())\n",
    "    # 검증 데이터 예측치('y_pred') 빈도수 (sorted)\n",
    "    df_pred_count =  pd.DataFrame(df_validation['y_pred'].value_counts().sort_index())\n",
    "\n",
    "    # pd.concat - 검증 데이타 정답지, 예측치 빈도수 합치기\n",
    "    df_val_pred_count = pd.concat([df_validation_count,df_pred_count], axis=1).fillna(0)\n",
    "\n",
    "    ############################################################\n",
    "    # 그래프 그리기\n",
    "    ############################################################\n",
    "    \n",
    "    x = df_validation_count.index\n",
    "    y_true_count = df_val_pred_count['y_true']\n",
    "    y_pred_count = df_val_pred_count['y_pred']\n",
    "\n",
    "    width = 0.35\n",
    "    plt.figure(figsize=(5,3),dpi=150)\n",
    "\n",
    "    plt.title('ACC : ' + str(acc)[:6])\n",
    "    plt.xlabel('quality')\n",
    "    plt.ylabel('count')\n",
    "\n",
    "    p1 = plt.bar([idx-width/2 for idx in x], y_true_count, width, label='real')\n",
    "    p2 = plt.bar([idx+width/2 for idx in x], y_pred_count,  width, label='pred')\n",
    "\n",
    "    plt.legend()\n",
    "    plt.show()\n",
    "    \n",
    "make_plot(y_valid, predict)"
   ]
  },
  {
   "cell_type": "code",
   "execution_count": null,
   "metadata": {},
   "outputs": [],
   "source": [
    "features = train.columns[2:]\n",
    "\n",
    "X = train[features]\n",
    "y = train['quality']\n",
    "\n",
    "model = RandomForestClassifier(n_estimators=10, random_state=42)\n",
    "model.fit(X, y)\n",
    "predict = model.predict(test[features])"
   ]
  },
  {
   "cell_type": "markdown",
   "metadata": {},
   "source": [
    "### 5. CSV파일로 저장"
   ]
  },
  {
   "cell_type": "code",
   "execution_count": null,
   "metadata": {},
   "outputs": [],
   "source": [
    "submission['quality'] = predict\n",
    "submission.head()"
   ]
  },
  {
   "cell_type": "code",
   "execution_count": null,
   "metadata": {},
   "outputs": [],
   "source": [
    "submission.to_csv('submission.csv', index=False)"
   ]
  }
 ],
 "metadata": {
  "kernelspec": {
   "display_name": "base",
   "language": "python",
   "name": "python3"
  },
  "language_info": {
   "codemirror_mode": {
    "name": "ipython",
    "version": 3
   },
   "file_extension": ".py",
   "mimetype": "text/x-python",
   "name": "python",
   "nbconvert_exporter": "python",
   "pygments_lexer": "ipython3",
   "version": "3.11.5"
  }
 },
 "nbformat": 4,
 "nbformat_minor": 2
}
