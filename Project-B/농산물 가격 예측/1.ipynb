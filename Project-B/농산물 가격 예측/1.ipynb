{
 "cells": [
  {
   "cell_type": "markdown",
   "metadata": {},
   "source": [
    "### 1. Pandas 라이브러리 불러오기"
   ]
  },
  {
   "cell_type": "code",
   "execution_count": null,
   "metadata": {},
   "outputs": [],
   "source": [
    "import pandas as pd\n",
    "import numpy as np\n",
    "\n",
    "train = pd.read_csv('train.csv')\n",
    "test = pd.read_csv('test.csv')\n",
    "\n",
    "display(train.head())\n",
    "display(test.head())"
   ]
  },
  {
   "cell_type": "markdown",
   "metadata": {},
   "source": [
    "### 1."
   ]
  },
  {
   "cell_type": "code",
   "execution_count": null,
   "metadata": {},
   "outputs": [],
   "source": [
    "train_min_date = train['date'].min()\n",
    "train_max_date = train['date'].max()\n",
    "\n",
    "test_min_date = test['date'].min()\n",
    "test_max_date = test['date'].max()\n",
    "\n",
    "display(f\"train 데이터 기간 : {train_min_date} ~ {train_max_date}\")\n",
    "display(f\"test 데이터 기간 : {test_min_date} ~ {test_max_date}\")"
   ]
  },
  {
   "cell_type": "code",
   "execution_count": null,
   "metadata": {},
   "outputs": [],
   "source": [
    "submission = pd.read_csv('sample_submission.csv')\n",
    "display(submission.head())"
   ]
  },
  {
   "cell_type": "code",
   "execution_count": null,
   "metadata": {},
   "outputs": [],
   "source": [
    "display(submission.tail(5))"
   ]
  },
  {
   "cell_type": "code",
   "execution_count": null,
   "metadata": {},
   "outputs": [],
   "source": [
    "test_day1 = test[test['date'] == test_min_date]\n",
    "test_day2 = test[test['date'] == test_max_date]\n",
    "\n",
    "display(\"첫째날 :\")\n",
    "display(test_day1)\n",
    "\n",
    "display(\"둘째날 :\")\n",
    "display(test_day2)"
   ]
  },
  {
   "cell_type": "code",
   "execution_count": null,
   "metadata": {},
   "outputs": [],
   "source": [
    "# 빈 submission_day1 DataFrame 생성\n",
    "submission_day1 = pd.DataFrame(columns=submission.columns)\n",
    "\n",
    "# test_day2의 마지막 날짜 정보 가져오기\n",
    "date = test_day1.iloc[-1]['date']\n",
    "\n",
    "# 예측대상일자 추가\n",
    "submission_day1['예측대상일자'] = [f'{date}+1week', f'{date}+2week', f'{date}+4week']\n",
    "\n",
    "target_items = submission_day1.columns[1:]\n",
    "\n",
    "# 3개의 행에 대한 나이브 예측 수행\n",
    "for item in target_items:\n",
    "    last_observation = test_day1.iloc[-1][item]\n",
    "    submission_day1.loc[submission_day1['예측대상일자'] == f'{date}+1week', item] = last_observation\n",
    "    submission_day1.loc[submission_day1['예측대상일자'] == f'{date}+2week', item] = last_observation\n",
    "    submission_day1.loc[submission_day1['예측대상일자'] == f'{date}+4week', item] = last_observation\n",
    "\n",
    "display(submission_day1)"
   ]
  },
  {
   "cell_type": "markdown",
   "metadata": {},
   "source": [
    "### 5. CSV파일로 저장"
   ]
  },
  {
   "cell_type": "code",
   "execution_count": null,
   "metadata": {},
   "outputs": [],
   "source": [
    "# 빈 submission_day2 DataFrame 생성\n",
    "submission_day2 = pd.DataFrame(columns=submission.columns)\n",
    "\n",
    "# test_day2의 마지막 날짜 정보 가져오기\n",
    "date = test_day2.iloc[-1]['date']\n",
    "\n",
    "# 예측대상일자 추가\n",
    "submission_day2['예측대상일자'] = [f'{date}+1week', f'{date}+2week', f'{date}+4week']\n",
    "\n",
    "# 품목별로 나이브 예측 수행\n",
    "for item in target_items:\n",
    "    last_observation = test_day2[item].iloc[-1]  # 마지막 관측치\n",
    "    submission_day2[item] = last_observation\n",
    "\n",
    "# submission_day1과 submission_day2 결합\n",
    "final_submission = pd.concat([submission_day1, submission_day2]).reset_index(drop=True)\n",
    "\n",
    "display(final_submission)"
   ]
  }
 ],
 "metadata": {
  "language_info": {
   "name": "python"
  }
 },
 "nbformat": 4,
 "nbformat_minor": 2
}
