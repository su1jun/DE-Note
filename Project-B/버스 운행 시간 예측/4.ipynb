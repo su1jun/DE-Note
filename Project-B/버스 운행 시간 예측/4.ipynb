{
 "cells": [
  {
   "cell_type": "markdown",
   "metadata": {},
   "source": [
    "### 4. EDA & 모델링(2)\n",
    "- 위도, 경도를 이용한 시각화\n",
    "- 이상치 제거"
   ]
  },
  {
   "cell_type": "markdown",
   "metadata": {},
   "source": [
    "### 1. 데이터 읽어오기"
   ]
  },
  {
   "cell_type": "code",
   "execution_count": null,
   "metadata": {},
   "outputs": [],
   "source": [
    "import pandas as pd\n",
    "\n",
    "train = pd.read_csv('train.csv')\n",
    "test = pd.read_csv('test.csv')      \n",
    "submission = pd.read_csv('sample_submission.csv')\n",
    "\n",
    "train.head(3)"
   ]
  },
  {
   "cell_type": "markdown",
   "metadata": {},
   "source": [
    "### 2. 데이터 확인"
   ]
  },
  {
   "cell_type": "code",
   "execution_count": null,
   "metadata": {},
   "outputs": [],
   "source": [
    "# 파이썬 warning 무시\n",
    "import warnings\n",
    "warnings.simplefilter(action='ignore', category=FutureWarning)\n",
    "\n",
    "# 시각화를 위한 라이브러리\n",
    "import matplotlib.pyplot as plt\n",
    "import matplotlib.font_manager as fm\n",
    "\n",
    "# 한글 폰트를 사용하기 위한 코드\n",
    "fe = fm.FontEntry(fname = 'NotoSansKR-Regular.otf', name = 'NotoSansKR')\n",
    "fm.fontManager.ttflist.insert(0, fe)\n",
    "plt.rc('font', family='NotoSansKR')\n",
    "\n",
    "## 코드 작성   \n",
    "ax = train['next_arrive_time'].plot(figsize=(20,10), alpha=0.4)\n",
    "\n",
    "ax.set_title('버스 운행시간')\n",
    "ax.set_xlabel('인덱스')\n",
    "ax.set_ylabel('운행시간')\n",
    "\n",
    "plt.show()"
   ]
  },
  {
   "cell_type": "code",
   "execution_count": null,
   "metadata": {},
   "outputs": [],
   "source": [
    "ax = train['next_arrive_time'].plot(figsize=(20,10), alpha=0.4)    \n",
    "\n",
    "ax.set_title('버스 운행시간')    \n",
    "ax.set_xlabel('인덱스')    \n",
    "ax.set_ylabel('운행시간')    \n",
    "\n",
    "ax.hlines(y = 20, xmin=0, xmax=len(train), colors='red')    \n",
    "ax.hlines(y = 250, xmin=0, xmax=len(train), colors='red')    \n",
    "ax.hlines(y = 600, xmin=0, xmax=len(train), colors='blue')    \n",
    "ax.hlines(y = 2300, xmin=0, xmax=len(train), colors='green')    \n",
    "\n",
    "plt.show()    "
   ]
  },
  {
   "cell_type": "code",
   "execution_count": null,
   "metadata": {},
   "outputs": [],
   "source": [
    "a = train[train['next_arrive_time']<20]\n",
    "b = train[(train['next_arrive_time']>=20) & (train['next_arrive_time']<250)]\n",
    "c = train[(train['next_arrive_time']>=250) & (train['next_arrive_time']<600)]\n",
    "d = train[(train['next_arrive_time']>=600) & (train['next_arrive_time']<2300)]\n",
    "e = train[(train['next_arrive_time']>=2300)]"
   ]
  },
  {
   "cell_type": "code",
   "execution_count": null,
   "metadata": {},
   "outputs": [],
   "source": [
    "x = ['20미만', '20~250', '250~600', '600~2300', '2300이상']\n",
    "y = [len(a),len(b),len(c),len(d),len(e)]\n",
    "\n",
    "# fig와 ax 객체 생성\n",
    "fig, ax = plt.subplots(dpi=150)\n",
    "\n",
    "ax.bar(x,y)\n",
    "\n",
    "ax.set_title('버스 운행시간 구간 별 횟수')\n",
    "ax.set_xlabel('버스 운행시간 구간')\n",
    "ax.set_ylabel('횟수')\n",
    "\n",
    "plt.show()"
   ]
  },
  {
   "cell_type": "code",
   "execution_count": null,
   "metadata": {},
   "outputs": [],
   "source": [
    "label = ['b구간', '나머지']\n",
    "value = [len(b)/len(train), (1-len(b)/len(train))]\n",
    "\n",
    "plt.figure(dpi=150)\n",
    "\n",
    "plt.title('버스 운행시간 구간 비율')\n",
    "\n",
    "plt.pie(x = value, labels = label)\n",
    "plt.legend()\n",
    "plt.show()"
   ]
  },
  {
   "cell_type": "code",
   "execution_count": null,
   "metadata": {},
   "outputs": [],
   "source": [
    "fig, ax = plt.subplots(dpi=150)\n",
    "\n",
    "ax.hist(train[train['next_arrive_time']<600]['next_arrive_time'], bins=20)\n",
    "\n",
    "ax.set_title('버스 운행시간 히스토그램')\n",
    "ax.set_xlabel('운행시간')\n",
    "ax.set_ylabel('횟수')\n",
    "\n",
    "plt.show()"
   ]
  },
  {
   "cell_type": "code",
   "execution_count": null,
   "metadata": {},
   "outputs": [],
   "source": [
    "x = ['운행시간<20', '운행시간>=20']\n",
    "y = [a['distance'].mean(), pd.concat([b,c,d,e])['distance'].mean()]\n",
    "\n",
    "plt.figure(dpi=150)\n",
    "\n",
    "plt.title('운행시간 vs 거리')\n",
    "plt.xlabel('운행시간')\n",
    "plt.ylabel('거리')\n",
    "\n",
    "plt.bar(x,y)\n",
    "plt.show()"
   ]
  },
  {
   "cell_type": "code",
   "execution_count": null,
   "metadata": {},
   "outputs": [],
   "source": [
    "x = ['20~250', '250~600']\n",
    "y = [b['distance'].mean(), c['distance'].mean()]\n",
    "\n",
    "plt.figure(dpi=150)\n",
    "\n",
    "plt.title('운행시간 vs 거리')\n",
    "plt.xlabel('운행시간')\n",
    "plt.ylabel('거리')\n",
    "\n",
    "plt.bar(x,y)\n",
    "plt.show()"
   ]
  },
  {
   "cell_type": "code",
   "execution_count": null,
   "metadata": {},
   "outputs": [],
   "source": [
    "x = train['distance']\n",
    "y = train['next_arrive_time']\n",
    "\n",
    "plt.figure(dpi = 150)\n",
    "\n",
    "plt.title('거리 vs 운행시간')\n",
    "plt.xlabel('거리')\n",
    "plt.ylabel('운행시간')\n",
    "\n",
    "plt.scatter(x,y, alpha = 0.3)\n",
    "\n",
    "plt.show()"
   ]
  },
  {
   "cell_type": "code",
   "execution_count": null,
   "metadata": {},
   "outputs": [],
   "source": [
    "import matplotlib.patches as patches\n",
    "\n",
    "x = train['distance']\n",
    "y = train['next_arrive_time']\n",
    "\n",
    "plt.figure(dpi = 150)\n",
    "\n",
    "plt.title('거리 vs 운행시간')\n",
    "plt.xlabel('거리')\n",
    "plt.ylabel('운행시간')\n",
    "\n",
    "plt.scatter(x,y, alpha = 0.3)\n",
    "\n",
    "# 이상치 표시하기 - 직사각형\n",
    "plt.gca().add_patch(\n",
    "    patches.Rectangle(\n",
    "        (0, 1000),\n",
    "        1000, 2000,               \n",
    "        edgecolor = 'deeppink',\n",
    "        fill=False,\n",
    "    ))\n",
    "\n",
    "plt.show()"
   ]
  },
  {
   "cell_type": "code",
   "execution_count": null,
   "metadata": {},
   "outputs": [],
   "source": [
    "import folium\n",
    "\n",
    "# 운행 거리가 1000 이하이면서 운행 시간이 1000 이상인 데이터의 좌표 정보 (list)\n",
    "locations = train[(train['distance'] <= 1000) & (train['next_arrive_time'] >= 1000)][['next_latitude', 'next_longitude']].values.tolist()\n",
    "\n",
    "# 지도 중심 좌표 - 위도와 경도의 평균\n",
    "lat_mean = sum([lat[0] for lat in locations]) / len(locations)\n",
    "long_mean = sum([long[1] for long in locations]) / len(locations)\n",
    "center = [lat_mean, long_mean]\n",
    "\n",
    "# 지도 그리기  \n",
    "m = folium.Map(location=center, zoom_start=9, tiles='cartodbpositron')\n",
    "\n",
    "# 점(Circle) 표시하기\n",
    "for location in locations:\n",
    "    folium.Circle(\n",
    "        radius=300,\n",
    "        location=location,\n",
    "        fill=True\n",
    "    ).add_to(m)\n",
    "\n",
    "m"
   ]
  },
  {
   "cell_type": "code",
   "execution_count": null,
   "metadata": {},
   "outputs": [],
   "source": [
    "temp = train[(train['distance'] > 1000) & (train['next_arrive_time'] < 1000)]\n",
    "\n",
    "x = temp['distance']\n",
    "y = temp['next_arrive_time']\n",
    "\n",
    "plt.figure(dpi = 150)\n",
    "plt.scatter(x,y, alpha = 0.3)\n",
    "\n",
    "# 운행시간 분포 표시하기 - 타원\n",
    "plt.gca().add_patch(\n",
    "   patches.Ellipse(\n",
    "      (4000, 600),\n",
    "      8000, 800,               \n",
    "      edgecolor = 'deeppink',\n",
    "      fill=False,\n",
    "      angle=3\n",
    "   ))\n",
    "\n",
    "plt.show()"
   ]
  },
  {
   "cell_type": "code",
   "execution_count": null,
   "metadata": {},
   "outputs": [],
   "source": [
    "# 운행 시간이 2300 이상인 데이터의 좌표 정보 (list)\n",
    "locations = train[train['next_arrive_time'] >= 2300][['next_latitude', 'next_longitude']].values.tolist()\n",
    "\n",
    "# 지도 중심 좌표 - 위도와 경도의 평균\n",
    "lat = sum([lat[0] for lat in locations]) / len(locations)\n",
    "long = sum([long[1] for long in locations]) / len(locations)\n",
    "center = [lat, long]\n",
    "\n",
    "# 지도 그리기\n",
    "m = folium.Map(location=center, zoom_start=12)\n",
    "\n",
    "# 점(Circle) 표시하기\n",
    "for location in locations:\n",
    "    folium.Circle(\n",
    "        radius=300,\n",
    "        location=location,\n",
    "        fill=True\n",
    "    ).add_to(m)\n",
    "\n",
    "m"
   ]
  },
  {
   "cell_type": "code",
   "execution_count": null,
   "metadata": {},
   "outputs": [],
   "source": [
    "train[(train['next_station'] == '제주대학교') & (train['next_arrive_time'] >= 2300)]"
   ]
  },
  {
   "cell_type": "code",
   "execution_count": null,
   "metadata": {},
   "outputs": [],
   "source": [
    "# 운행 시간이 긴 데이터\n",
    "X = train[train['next_longitude'] == 126.561659]['next_arrive_time'].reset_index(drop=True).index\n",
    "Y = train[train['next_longitude'] == 126.561659]['next_arrive_time'].reset_index(drop=True).values\n",
    "\n",
    "plt.plot(X,Y)\n",
    "plt.show()"
   ]
  },
  {
   "cell_type": "markdown",
   "metadata": {},
   "source": [
    "### 3. 데이터 전처리"
   ]
  },
  {
   "cell_type": "code",
   "execution_count": null,
   "metadata": {},
   "outputs": [],
   "source": [
    "my_list = list(train['route_nm'].unique()) + list(train['now_station'].unique()) + list(train['next_station'].unique())\n",
    "my_dict = {text : i for i, text in enumerate(my_list)}\n",
    "my_dict"
   ]
  },
  {
   "cell_type": "code",
   "execution_count": null,
   "metadata": {},
   "outputs": [],
   "source": [
    "train[['route_nm', 'now_station', 'next_station']] = train[['route_nm', 'now_station', 'next_station']].applymap(lambda x : my_dict[x])\n",
    "test[['route_nm', 'now_station', 'next_station']] = test[['route_nm', 'now_station', 'next_station']].applymap(lambda x : my_dict[x])\n",
    "\n",
    "def text_to_time(text:str):\n",
    "    return int(text[:2])\n",
    "\n",
    "train['now_arrive_time'] = train['now_arrive_time'].map(text_to_time)\n",
    "test['now_arrive_time'] = test['now_arrive_time'].map(text_to_time)\n",
    "\n",
    "train.head()"
   ]
  },
  {
   "cell_type": "code",
   "execution_count": null,
   "metadata": {},
   "outputs": [],
   "source": [
    "train = train[train['next_arrive_time'] < 1000]"
   ]
  },
  {
   "cell_type": "code",
   "execution_count": null,
   "metadata": {},
   "outputs": [],
   "source": [
    "features = train.columns[2:-1]     \n",
    "target = train.columns[-1]    \n",
    "\n",
    "X = train[features]     \n",
    "y = train[target]"
   ]
  },
  {
   "cell_type": "code",
   "execution_count": null,
   "metadata": {},
   "outputs": [],
   "source": [
    "from sklearn.model_selection import train_test_split\n",
    "\n",
    "X_train, X_valid, y_train, y_valid = train_test_split(X,y, test_size=0.3, shuffle=False)\n",
    "\n",
    "#데이터 shape 확인\n",
    "print(f\"X_train.shape : {X_train.shape}\")\n",
    "print(f\"y_train.shape : {y_train.shape}\")\n",
    "print(f\"X_valid.shape : {X_valid.shape}\")\n",
    "print(f\"y_valid.shape : {y_valid.shape}\")"
   ]
  },
  {
   "cell_type": "markdown",
   "metadata": {},
   "source": [
    "### 4. 데이터 학습"
   ]
  },
  {
   "cell_type": "code",
   "execution_count": null,
   "metadata": {},
   "outputs": [],
   "source": [
    "from sklearn.ensemble import RandomForestRegressor\n",
    "\n",
    "model = RandomForestRegressor(n_estimators = 20)"
   ]
  },
  {
   "cell_type": "code",
   "execution_count": null,
   "metadata": {},
   "outputs": [],
   "source": [
    "model.fit(X_train,y_train)"
   ]
  },
  {
   "cell_type": "code",
   "execution_count": null,
   "metadata": {},
   "outputs": [],
   "source": [
    "# 학습된 모델을 이용해 결괏값 예측 후 상위 10개의 값 확인\n",
    "predict = model.predict(test[features])\n",
    "print('----------------------예측된 데이터의 상위 10개의 값 확인--------------------\\n')\n",
    "print(predict[:10])"
   ]
  },
  {
   "cell_type": "markdown",
   "metadata": {},
   "source": [
    "### 5. CSV파일로 저장"
   ]
  },
  {
   "cell_type": "code",
   "execution_count": null,
   "metadata": {},
   "outputs": [],
   "source": [
    "submission['next_arrive_time'] = predict     \n",
    "submission.head()"
   ]
  },
  {
   "cell_type": "code",
   "execution_count": null,
   "metadata": {},
   "outputs": [],
   "source": [
    "submission.to_csv('submission.csv', index=False, quoting=2, encoding=\"utf-8-sig\", na_rep=0, float_format='%.6f')"
   ]
  }
 ],
 "metadata": {
  "kernelspec": {
   "display_name": "base",
   "language": "python",
   "name": "python3"
  },
  "language_info": {
   "codemirror_mode": {
    "name": "ipython",
    "version": 3
   },
   "file_extension": ".py",
   "mimetype": "text/x-python",
   "name": "python",
   "nbconvert_exporter": "python",
   "pygments_lexer": "ipython3",
   "version": "3.11.5"
  }
 },
 "nbformat": 4,
 "nbformat_minor": 2
}
