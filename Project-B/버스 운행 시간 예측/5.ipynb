{
 "cells": [
  {
   "cell_type": "markdown",
   "metadata": {},
   "source": [
    "### 5. EDA & 모델링(2)\n",
    "- 데이터 시각화\n",
    "- 피처간 연관성 찾기"
   ]
  },
  {
   "cell_type": "markdown",
   "metadata": {},
   "source": [
    "### 1. 데이터 읽어오기"
   ]
  },
  {
   "cell_type": "code",
   "execution_count": null,
   "metadata": {},
   "outputs": [],
   "source": [
    "import pandas as pd\n",
    "\n",
    "train = pd.read_csv('train.csv')\n",
    "test = pd.read_csv('test.csv')      \n",
    "submission = pd.read_csv('sample_submission.csv')\n",
    "\n",
    "train.head(3)"
   ]
  },
  {
   "cell_type": "markdown",
   "metadata": {},
   "source": [
    "### 2. 데이터 확인"
   ]
  },
  {
   "cell_type": "code",
   "execution_count": null,
   "metadata": {},
   "outputs": [],
   "source": [
    "id = 405136001\n",
    "number = '360-1'\n",
    "\n",
    "select_nm = train[train['route_id'] == id]['route_nm'].unique()\n",
    "select_id = train[train['route_nm'] == number]['route_id'].unique()\n",
    "\n",
    "print(select_nm)\n",
    "print(select_id)"
   ]
  },
  {
   "cell_type": "code",
   "execution_count": null,
   "metadata": {},
   "outputs": [],
   "source": [
    "print(train[train['route_id'] == 405136001]['vh_id'].unique())\n",
    "print(train[train['route_nm'] == '360-1']['vh_id'].unique())"
   ]
  },
  {
   "cell_type": "code",
   "execution_count": null,
   "metadata": {},
   "outputs": [],
   "source": [
    "print(train[train['vh_id'] == 7997025]['route_id'].unique())\n",
    "print(train[train['vh_id'] == 7997025]['route_nm'].unique())"
   ]
  },
  {
   "cell_type": "code",
   "execution_count": null,
   "metadata": {},
   "outputs": [],
   "source": [
    "def check_unique(text:str):\n",
    "    if (len(train[train['vh_id'] == text]['route_id'].unique()) != 1) |    \\\n",
    "        (len(train[train['vh_id'] == text]['route_nm'].unique()) != 1):\n",
    "        return True\n",
    "    else :\n",
    "        return False\n",
    "\n",
    "check_vhid = list(map(check_unique, train['vh_id'].unique()))\n",
    "set(check_vhid)"
   ]
  },
  {
   "cell_type": "code",
   "execution_count": null,
   "metadata": {},
   "outputs": [],
   "source": [
    "train.loc[178:183][['vh_id']]"
   ]
  },
  {
   "cell_type": "code",
   "execution_count": null,
   "metadata": {},
   "outputs": [],
   "source": [
    "train['shifted_vhid'] = train['vh_id'].shift(-1)\n",
    "train.loc[178:183][['vh_id', 'shifted_vhid']]"
   ]
  },
  {
   "cell_type": "code",
   "execution_count": null,
   "metadata": {},
   "outputs": [],
   "source": [
    "idx = [-1]     \n",
    "idx = idx + list(train[train['vh_id'] != train['shifted_vhid']]['id'].values)\n",
    "idx[:10]"
   ]
  },
  {
   "cell_type": "code",
   "execution_count": null,
   "metadata": {},
   "outputs": [],
   "source": [
    "import folium\n",
    "\n",
    "# 0~1329 사이의 값을 입력하여 경로를 확인해보세요!\n",
    "my_idx = 700\n",
    "\n",
    "long = train['now_longitude'].mean()\n",
    "lat = train['now_latitude'].mean()\n",
    "center = [lat,long]\n",
    "\n",
    "m = folium.Map(location=center, zoom_start=10)\n",
    "\n",
    "# my_idx가 700일 경우 train.loc[114015:114139][['next_latitude', 'next_longitude']].values와 동일\n",
    "locations = train.loc[idx[my_idx]+1:idx[my_idx+1]][['next_latitude', 'next_longitude']].values\n",
    "\n",
    "folium.PolyLine(locations=locations).add_to(m)\n",
    "\n",
    "m"
   ]
  },
  {
   "cell_type": "code",
   "execution_count": null,
   "metadata": {},
   "outputs": [],
   "source": [
    "pd.DataFrame(train.groupby(['now_station', 'now_latitude']).count().reset_index()[:50].value_counts('now_station'))"
   ]
  },
  {
   "cell_type": "code",
   "execution_count": null,
   "metadata": {},
   "outputs": [],
   "source": [
    "def check_station(text:str):\n",
    "    if len(train[train['now_latitude'] == text]['now_station'].unique()) != 1:\n",
    "        return True\n",
    "    else :\n",
    "        return False\n",
    "\n",
    "check_nowlat = list(map(check_station, train['now_latitude'].unique()))\n",
    "set(check_nowlat)"
   ]
  },
  {
   "cell_type": "code",
   "execution_count": null,
   "metadata": {},
   "outputs": [],
   "source": [
    "def check_station(text:str):\n",
    "    if len(train[train['now_longitude'] == text]['now_station'].unique()) != 1:\n",
    "        return True\n",
    "    else :\n",
    "        return False\n",
    "\n",
    "check_nowlong = list(map(check_station, train['now_longitude'].unique()))\n",
    "set(check_nowlong)"
   ]
  },
  {
   "cell_type": "code",
   "execution_count": null,
   "metadata": {},
   "outputs": [],
   "source": [
    "def check_station(text:str):\n",
    "    if len(train[train['next_longitude'] == text]['next_station'].unique()) != 1:\n",
    "        return True\n",
    "    else :\n",
    "        return False\n",
    "\n",
    "check_next_long = list(map(check_station, train['next_longitude'].unique()))\n",
    "set(check_next_long)"
   ]
  },
  {
   "cell_type": "code",
   "execution_count": null,
   "metadata": {},
   "outputs": [],
   "source": [
    "# 파이썬 warning 무시\n",
    "import warnings\n",
    "warnings.simplefilter(action='ignore', category=FutureWarning)\n",
    "\n",
    "# 시각화를 위한 라이브러리\n",
    "import matplotlib.pyplot as plt\n",
    "import matplotlib.font_manager as fm\n",
    "\n",
    "# 한글 폰트를 사용하기 위한 코드\n",
    "fe = fm.FontEntry(fname = 'NotoSansKR-Regular.otf', name = 'NotoSansKR')\n",
    "fm.fontManager.ttflist.insert(0, fe)\n",
    "plt.rc('font', family='NotoSansKR')\n",
    "\n",
    "## 코드 작성\n",
    "x = ['911의원1', '911의원2']\n",
    "y = [train[train['now_latitude'] == train[train['now_station'] == '911의원']['now_latitude'].unique()[0]]['next_arrive_time'].mean(),\n",
    "     train[train['now_latitude'] == train[train['now_station'] == '911의원']['now_latitude'].unique()[1]]['next_arrive_time'].mean()]\n",
    "\n",
    "plt.figure(dpi=150)\n",
    "\n",
    "plt.title('정류장 별 운행시간')\n",
    "plt.xlabel('정류장')\n",
    "plt.ylabel('운행시간')\n",
    "\n",
    "plt.bar(x,y)\n",
    "plt.show()"
   ]
  },
  {
   "cell_type": "code",
   "execution_count": null,
   "metadata": {},
   "outputs": [],
   "source": [
    "x = ['고성리제주은행1', '고성리제주은행2']\n",
    "y = [train[train['now_latitude'] == train[train['now_station'] == '고성리제주은행']['now_latitude'].unique()[0]]['next_arrive_time'].mean(),\n",
    "     train[train['now_latitude'] == train[train['now_station'] == '고성리제주은행']['now_latitude'].unique()[1]]['next_arrive_time'].mean()]\n",
    "\n",
    "plt.figure(dpi=150)\n",
    "\n",
    "plt.title('정류장 별 운행시간')\n",
    "plt.xlabel('정류장')\n",
    "plt.ylabel('운행시간')\n",
    "\n",
    "plt.bar(x,y)\n",
    "plt.show()"
   ]
  },
  {
   "cell_type": "code",
   "execution_count": null,
   "metadata": {},
   "outputs": [],
   "source": [
    "train['now_arrive_time'].value_counts().sort_index()"
   ]
  },
  {
   "cell_type": "code",
   "execution_count": null,
   "metadata": {},
   "outputs": [],
   "source": [
    "x = train['now_arrive_time'].value_counts().sort_index().index\n",
    "y = train['now_arrive_time'].value_counts().sort_index().values\n",
    "\n",
    "# fig와 ax 객체 생성\n",
    "fig, ax = plt.subplots(dpi=150)\n",
    "\n",
    "ax.bar(x, y)\n",
    "\n",
    "# x축의 라벨값을 45도로 기울임\n",
    "plt.xticks(rotation=45)\n",
    "\n",
    "plt.show()"
   ]
  },
  {
   "cell_type": "code",
   "execution_count": null,
   "metadata": {},
   "outputs": [],
   "source": [
    "ax = train['distance'].plot(figsize=(20,10))\n",
    "plt.ylabel('distance')\n",
    "plt.show()"
   ]
  },
  {
   "cell_type": "code",
   "execution_count": null,
   "metadata": {},
   "outputs": [],
   "source": [
    "train[train['distance'] > 6000]['vh_id'].unique()"
   ]
  },
  {
   "cell_type": "code",
   "execution_count": null,
   "metadata": {},
   "outputs": [],
   "source": [
    "bus_id = 7983416\n",
    "date = '2019-10-16'\n",
    "\n",
    "locations = train[(train['vh_id'] == bus_id) & (train['date'] == date)][['now_latitude', 'now_longitude']].values\n",
    "lat = locations[:,0].mean()\n",
    "long = locations[:,1].mean()\n",
    "center = [lat,long]\n",
    "\n",
    "m = folium.Map(location=center, zoom_start=10)\n",
    "\n",
    "folium.PolyLine(locations=locations).add_to(m)\n",
    "\n",
    "m"
   ]
  },
  {
   "cell_type": "markdown",
   "metadata": {},
   "source": [
    "### 3. 데이터 전처리"
   ]
  },
  {
   "cell_type": "code",
   "execution_count": null,
   "metadata": {},
   "outputs": [],
   "source": [
    "import pandas as pd\n",
    "\n",
    "train = pd.read_csv('train.csv')\n",
    "test = pd.read_csv('test.csv')"
   ]
  },
  {
   "cell_type": "code",
   "execution_count": null,
   "metadata": {},
   "outputs": [],
   "source": [
    "my_list = list(train['vh_id'].unique()) + list(train['now_longitude'].unique()) + list(train['next_longitude'].unique())   \n",
    "my_dict = {text : i for i, text in enumerate(my_list)}"
   ]
  },
  {
   "cell_type": "code",
   "execution_count": null,
   "metadata": {},
   "outputs": [],
   "source": [
    "train = train[train['next_arrive_time'] < 1000]"
   ]
  },
  {
   "cell_type": "code",
   "execution_count": null,
   "metadata": {},
   "outputs": [],
   "source": [
    "features = ['vh_id', 'now_longitude', 'now_arrive_time', 'distance', 'next_longitude']\n",
    "\n",
    "# 학습에 사용할 변수 X 할당\n",
    "X = train[features]\n",
    "\n",
    "# 예측할 변수 y 할당\n",
    "y = train['next_arrive_time']"
   ]
  },
  {
   "cell_type": "markdown",
   "metadata": {},
   "source": [
    "### 4. 데이터 학습"
   ]
  },
  {
   "cell_type": "code",
   "execution_count": null,
   "metadata": {},
   "outputs": [],
   "source": [
    "from sklearn.ensemble import RandomForestRegressor\n",
    "\n",
    "# 모델 선언\n",
    "model = RandomForestRegressor(n_estimators=20)\n",
    "\n",
    "# 모델 학습\n",
    "model.fit(X, y)\n",
    "\n",
    "# 예측값 획득\n",
    "# features = ['vh_id', 'now_longitude', 'now_arrive_time', 'distance', 'next_longitude']\n",
    "predict = model.predict(test[features])"
   ]
  },
  {
   "cell_type": "markdown",
   "metadata": {},
   "source": [
    "### 5. CSV파일로 저장"
   ]
  },
  {
   "cell_type": "code",
   "execution_count": null,
   "metadata": {},
   "outputs": [],
   "source": [
    "submission['next_arrive_time'] = predict\n",
    "submission.head()"
   ]
  },
  {
   "cell_type": "code",
   "execution_count": null,
   "metadata": {},
   "outputs": [],
   "source": [
    "submission.to_csv('submission.csv', index=False, quoting=2, encoding=\"utf-8-sig\", na_rep=0, float_format='%.6f')"
   ]
  }
 ],
 "metadata": {
  "kernelspec": {
   "display_name": "base",
   "language": "python",
   "name": "python3"
  },
  "language_info": {
   "codemirror_mode": {
    "name": "ipython",
    "version": 3
   },
   "file_extension": ".py",
   "mimetype": "text/x-python",
   "name": "python",
   "nbconvert_exporter": "python",
   "pygments_lexer": "ipython3",
   "version": "3.11.5"
  }
 },
 "nbformat": 4,
 "nbformat_minor": 2
}
