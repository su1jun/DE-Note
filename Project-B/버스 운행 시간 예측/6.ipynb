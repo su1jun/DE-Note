{
 "cells": [
  {
   "cell_type": "markdown",
   "metadata": {},
   "source": [
    "### 6. 모델링\n",
    "- 모델 고도화\n",
    "- 모델 예측값 시각화"
   ]
  },
  {
   "cell_type": "markdown",
   "metadata": {},
   "source": [
    "### 1. 데이터 읽어오기"
   ]
  },
  {
   "cell_type": "code",
   "execution_count": null,
   "metadata": {},
   "outputs": [],
   "source": [
    "import pandas as pd\n",
    "\n",
    "train = pd.read_csv('train.csv')\n",
    "test = pd.read_csv('test.csv')      \n",
    "submission = pd.read_csv('sample_submission.csv')"
   ]
  },
  {
   "cell_type": "markdown",
   "metadata": {},
   "source": [
    "### 2. 데이터 확인"
   ]
  },
  {
   "cell_type": "code",
   "execution_count": null,
   "metadata": {},
   "outputs": [],
   "source": [
    "train.head()"
   ]
  },
  {
   "cell_type": "code",
   "execution_count": null,
   "metadata": {},
   "outputs": [],
   "source": [
    "# 데이터 결측치 및 변수들의 타입 확인\n",
    "train.isnull().sum()"
   ]
  },
  {
   "cell_type": "markdown",
   "metadata": {},
   "source": [
    "### 3. 데이터 전처리"
   ]
  },
  {
   "cell_type": "code",
   "execution_count": null,
   "metadata": {},
   "outputs": [],
   "source": [
    "features = ['vh_id', 'now_longitude', 'now_arrive_time', 'distance', 'next_longitude']\n",
    "\n",
    "# 학습에 사용할 변수 X 할당\n",
    "X = train[features]   \n",
    "\n",
    "# 예측할 변수 y 할당\n",
    "y = train['next_arrive_time']"
   ]
  },
  {
   "cell_type": "code",
   "execution_count": null,
   "metadata": {},
   "outputs": [],
   "source": [
    "from sklearn.model_selection import train_test_split\n",
    "\n",
    "X_train, X_valid, y_train, y_valid = train_test_split(X,y, test_size=0.3, shuffle=False)"
   ]
  },
  {
   "cell_type": "markdown",
   "metadata": {},
   "source": [
    "### 4. 데이터 학습"
   ]
  },
  {
   "cell_type": "code",
   "execution_count": null,
   "metadata": {},
   "outputs": [],
   "source": [
    "from sklearn.ensemble import RandomForestRegressor\n",
    "\n",
    "rf_model = RandomForestRegressor(n_estimators=20, criterion='squared_error', random_state=42)"
   ]
  },
  {
   "cell_type": "code",
   "execution_count": null,
   "metadata": {},
   "outputs": [],
   "source": [
    "# 모델 학습\n",
    "rf_model.fit(X_train, y_train)\n",
    "\n",
    "# 예측값 획득\n",
    "predict = rf_model.predict(X_valid)\n",
    "predict"
   ]
  },
  {
   "cell_type": "code",
   "execution_count": null,
   "metadata": {},
   "outputs": [],
   "source": [
    "from sklearn.metrics import mean_squared_error\n",
    "\n",
    "def rmse(real, pred):    \n",
    "    return mean_squared_error(real, pred)**0.5\n",
    "\n",
    "RMSE = rmse(y_valid, predict)\n",
    "RMSE"
   ]
  },
  {
   "cell_type": "code",
   "execution_count": null,
   "metadata": {},
   "outputs": [],
   "source": [
    "# 시각화를 위한 라이브러리\n",
    "import matplotlib.pyplot as plt\n",
    "import matplotlib.font_manager as fm\n",
    "\n",
    "# 한글 폰트를 사용하기 위한 코드\n",
    "fe = fm.FontEntry(fname = 'NotoSansKR-Regular.otf', name = 'NotoSansKR')\n",
    "fm.fontManager.ttflist.insert(0, fe)\n",
    "plt.rc('font', family='NotoSansKR')\n",
    "\n",
    "RMSE = rmse(y_valid, predict)\n",
    "\n",
    "plt.figure(dpi=150)\n",
    "\n",
    "plt.title('RMSE : ' + str(RMSE)[:8])\n",
    "\n",
    "plt.plot(y_valid.reset_index(drop=True), alpha=0.6, label='real')\n",
    "plt.plot(predict, alpha=0.6, label='pred')\n",
    "\n",
    "plt.legend()\n",
    "plt.show()"
   ]
  },
  {
   "cell_type": "code",
   "execution_count": null,
   "metadata": {},
   "outputs": [],
   "source": [
    "import xgboost\n",
    "\n",
    "model = xgboost.XGBRegressor(objective='reg:squarederror', n_estimators = 3000, eval_metric = 'rmse', early_stopping_rounds=10, random_state=42)"
   ]
  },
  {
   "cell_type": "code",
   "execution_count": null,
   "metadata": {},
   "outputs": [],
   "source": [
    "model.fit(X_train,y_train, eval_set=[(X_valid,y_valid)], verbose=10)\n",
    "\n",
    "y_pred = model.predict(X_valid)"
   ]
  },
  {
   "cell_type": "code",
   "execution_count": null,
   "metadata": {},
   "outputs": [],
   "source": [
    "RMSE = rmse(y_valid, y_pred)\n",
    "RMSE"
   ]
  },
  {
   "cell_type": "code",
   "execution_count": null,
   "metadata": {},
   "outputs": [],
   "source": [
    "RMSE = rmse(y_valid, y_pred)\n",
    "\n",
    "# figure 및 ax 생성\n",
    "fig, ax = plt.subplots(dpi=150)\n",
    "\n",
    "# 그래프 제목 설정\n",
    "ax.set_title('RMSE : ' + str(RMSE)[:8])\n",
    "\n",
    "# 실제 값과 예측 값 그래프 그리기\n",
    "ax.plot(y_valid.reset_index(drop=True), alpha=0.6, label='real')\n",
    "ax.plot(y_pred, alpha=0.6, label='pred')\n",
    "\n",
    "# 범례 추가\n",
    "ax.legend()\n",
    "\n",
    "# 그래프 출력\n",
    "plt.show()"
   ]
  },
  {
   "cell_type": "code",
   "execution_count": null,
   "metadata": {},
   "outputs": [],
   "source": [
    "# 1. 모델 정의\n",
    "final_model = xgboost.XGBRegressor(objective='reg:squarederror', n_estimators = 3000, eval_metric = 'rmse', early_stopping_rounds=10)\n",
    "\n",
    "# 2. 모델 학습\n",
    "final_model.fit(X_train, y_train, eval_set=[(X_valid,y_valid)], verbose= 10)\n",
    "\n",
    "# 3. 예측\n",
    "xgb_predict = final_model.predict(test[features])\n",
    "\n",
    "# 예측값 시각화\n",
    "plt.plot(xgb_predict)\n",
    "plt.show()"
   ]
  },
  {
   "cell_type": "markdown",
   "metadata": {},
   "source": [
    "### 5. CSV파일로 저장"
   ]
  },
  {
   "cell_type": "code",
   "execution_count": null,
   "metadata": {},
   "outputs": [],
   "source": [
    "submission['next_arrive_time'] = predict\n",
    "submission.head()"
   ]
  },
  {
   "cell_type": "code",
   "execution_count": null,
   "metadata": {},
   "outputs": [],
   "source": [
    "submission.to_csv('submission.csv', index=False, quoting=2, encoding=\"utf-8-sig\", na_rep=0, float_format='%.6f')"
   ]
  }
 ],
 "metadata": {
  "kernelspec": {
   "display_name": "base",
   "language": "python",
   "name": "python3"
  },
  "language_info": {
   "codemirror_mode": {
    "name": "ipython",
    "version": 3
   },
   "file_extension": ".py",
   "mimetype": "text/x-python",
   "name": "python",
   "nbconvert_exporter": "python",
   "pygments_lexer": "ipython3",
   "version": "3.11.5"
  }
 },
 "nbformat": 4,
 "nbformat_minor": 2
}
