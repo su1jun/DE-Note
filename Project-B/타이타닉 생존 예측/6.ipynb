{
 "cells": [
  {
   "cell_type": "markdown",
   "metadata": {},
   "source": [
    "### 6."
   ]
  },
  {
   "cell_type": "markdown",
   "metadata": {},
   "source": [
    "### 1. 데이터 읽어오기"
   ]
  },
  {
   "cell_type": "code",
   "execution_count": null,
   "metadata": {},
   "outputs": [],
   "source": [
    "import pandas as pd\n",
    "\n",
    "train = pd.read_csv('train.csv')\n",
    "test = pd.read_csv('test.csv')      \n",
    "submission = pd.read_csv('sample_submission.csv')"
   ]
  },
  {
   "cell_type": "markdown",
   "metadata": {},
   "source": [
    "### 2. 데이터 확인"
   ]
  },
  {
   "cell_type": "markdown",
   "metadata": {},
   "source": [
    "### 3. 데이터 전처리"
   ]
  },
  {
   "cell_type": "code",
   "execution_count": null,
   "metadata": {},
   "outputs": [],
   "source": [
    "columns = ['Pclass', 'Sex', 'Age', 'SibSp', 'Parch', 'Fare', 'Embarked']\n",
    "train = train[columns + ['Survived']]\n",
    "test = test[columns]\n",
    "\n",
    "# Null 처리\n",
    "mean_age = train['Age'].mean()\n",
    "mean_fare = train['Fare'].mean()\n",
    "\n",
    "train['Age'] = train['Age'].fillna(mean_age)\n",
    "test['Age'] = test['Age'].fillna(mean_age)\n",
    "train['Fare'] = train['Fare'].fillna(mean_fare)\n",
    "test['Fare'] = test['Fare'].fillna(mean_fare)\n",
    "\n",
    "# 이상치 제거\n",
    "train = train[train['Parch'] <= 5]\n",
    "train = train[train['Fare'] <= 300]\n",
    "\n",
    "train['Sex'] = train['Sex'].apply(lambda x: 0 if x == 'female' else 1)\n",
    "test['Sex'] = test['Sex'].apply(lambda x: 0 if x == 'female' else 1)\n",
    "\n",
    "train = pd.get_dummies(train, columns=['Embarked'], drop_first=True)\n",
    "test = pd.get_dummies(test, columns=['Embarked'], drop_first=True)\n",
    "\n",
    "train_x = train.drop(columns='Survived', axis=1)\n",
    "train_y = train['Survived']\n",
    "\n",
    "from sklearn.model_selection import train_test_split\n",
    "train_x, val_x, train_y, val_y  = train_test_split(train_x, train_y, test_size=0.2, random_state=0)\n",
    "\n",
    "from imblearn.over_sampling import SMOTE\n",
    "\n",
    "# 모델설정\n",
    "smote = SMOTE(random_state=0)\n",
    "\n",
    "# train데이터를 넣어 복제함\n",
    "X_resampled, y_resampled = smote.fit_resample(train_x,list(train_y))\n",
    "\n",
    "X_resampled['Survived'] = y_resampled\n",
    "train_dataset = X_resampled"
   ]
  },
  {
   "cell_type": "markdown",
   "metadata": {},
   "source": [
    "### 4. 데이터 학습"
   ]
  },
  {
   "cell_type": "code",
   "execution_count": null,
   "metadata": {},
   "outputs": [],
   "source": [
    "import statsmodels.api as sm\n",
    "from sklearn.metrics import classification_report\n",
    "from sklearn.metrics import confusion_matrix\n",
    "\n",
    "formula = \"\"\"\n",
    "Survived ~ C(Pclass)+ C(Sex) + scale(Age) + scale(SibSp) + scale(Parch) + scale(Fare) + C(Embarked_Q)+ C(Embarked_S)\n",
    "\"\"\"\n",
    "\n",
    "model = sm.Logit.from_formula(formula, data=train_x)\n",
    "result = model.fit()\n",
    "y_pred = result.predict(val_x)\n",
    "y_pred = y_pred.apply(lambda x: 1 if x >= 0.5 else 0)\n",
    "\n",
    "print(confusion_matrix(val_y, y_pred))\n",
    "print(classification_report(val_y, y_pred))"
   ]
  },
  {
   "cell_type": "code",
   "execution_count": null,
   "metadata": {},
   "outputs": [],
   "source": [
    "from sklearn.tree import DecisionTreeClassifier\n",
    "\n",
    "X_resampled = X_resampled.drop(columns='Survived', axis=1)\n",
    "model = DecisionTreeClassifier(max_depth=6, random_state=0)\n",
    "model.fit(X_resampled, y_resampled)\n",
    "\n",
    "y_pred = model.predict(val_x)\n",
    "print(confusion_matrix(val_y, y_pred))\n",
    "print(classification_report(val_y, y_pred))"
   ]
  },
  {
   "cell_type": "code",
   "execution_count": null,
   "metadata": {},
   "outputs": [],
   "source": [
    "from sklearn.ensemble import RandomForestClassifier\n",
    "\n",
    "model = RandomForestClassifier(n_estimators=200, max_depth=5, random_state=0)\n",
    "model.fit(train.drop(columns='Survived'),train['Survived'])\n",
    "\n",
    "y_pred = model.predict(val_x)\n",
    "print(confusion_matrix(val_y, y_pred))\n",
    "print(classification_report (val_y, y_pred))"
   ]
  },
  {
   "cell_type": "code",
   "execution_count": null,
   "metadata": {},
   "outputs": [],
   "source": [
    "from xgboost import XGBClassifier\n",
    "model = XGBClassifier(n_estimators=200, learning_rate=0.01, max_depth=5, random_state = 0)\n",
    "model.fit(X_resampled, y_resampled)\n",
    "y_pred = model.predict(val_x)\n",
    "\n",
    "print(confusion_matrix(val_y, y_pred))\n",
    "print(classification_report (val_y, y_pred))"
   ]
  },
  {
   "cell_type": "code",
   "execution_count": null,
   "metadata": {},
   "outputs": [],
   "source": [
    "my_model = XGBClassifier(n_estimators=200, learning_rate=0.01, max_depth=5, random_state = 0)\n",
    "my_model.fit(train_dataset.drop(columns='Survived'),train_dataset['Survived'])\n",
    "XGB_pred = my_model.predict(test)"
   ]
  },
  {
   "cell_type": "markdown",
   "metadata": {},
   "source": [
    "### 5. CSV파일로 저장"
   ]
  },
  {
   "cell_type": "code",
   "execution_count": null,
   "metadata": {},
   "outputs": [],
   "source": [
    "y_pred = my_model.predict(test)\n",
    "submission['Survived'] = y_pred\n",
    "submission['Survived'] = submission['Survived'].apply(lambda x: 1 if x >= 0.5 else 0)\n",
    "submission.head(10)"
   ]
  },
  {
   "cell_type": "code",
   "execution_count": null,
   "metadata": {},
   "outputs": [],
   "source": [
    "submission.to_csv('submission.csv', index=False)"
   ]
  }
 ],
 "metadata": {
  "kernelspec": {
   "display_name": "base",
   "language": "python",
   "name": "python3"
  },
  "language_info": {
   "codemirror_mode": {
    "name": "ipython",
    "version": 3
   },
   "file_extension": ".py",
   "mimetype": "text/x-python",
   "name": "python",
   "nbconvert_exporter": "python",
   "pygments_lexer": "ipython3",
   "version": "3.11.5"
  }
 },
 "nbformat": 4,
 "nbformat_minor": 2
}
