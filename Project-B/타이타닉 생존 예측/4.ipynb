{
 "cells": [
  {
   "cell_type": "markdown",
   "metadata": {},
   "source": [
    "### 4. "
   ]
  },
  {
   "cell_type": "markdown",
   "metadata": {},
   "source": [
    "### 1. 데이터 읽어오기"
   ]
  },
  {
   "cell_type": "code",
   "execution_count": null,
   "metadata": {},
   "outputs": [],
   "source": [
    "import pandas as pd\n",
    "\n",
    "raw_data_train = pd.read_csv('train.csv')\n",
    "raw_data_test = pd.read_csv('test.csv')\n",
    "raw_data_submission = pd.read_csv('sample_submission.csv')"
   ]
  },
  {
   "cell_type": "markdown",
   "metadata": {},
   "source": [
    "### 2. 데이터 확인"
   ]
  },
  {
   "cell_type": "code",
   "execution_count": null,
   "metadata": {},
   "outputs": [],
   "source": [
    "import seaborn as sns\n",
    "import matplotlib.pyplot as plt\n",
    "\n",
    "fig, ax = plt.subplots(figsize=(5,5))\n",
    "sns.countplot(x=raw_data_train['Survived'])\n",
    "plt.show()"
   ]
  },
  {
   "cell_type": "markdown",
   "metadata": {},
   "source": [
    "### 3. 데이터 전처리"
   ]
  },
  {
   "cell_type": "code",
   "execution_count": null,
   "metadata": {},
   "outputs": [],
   "source": [
    "columns = ['Pclass', 'Sex', 'Embarked']\n",
    "for col_name in columns:\n",
    "    fig, ax = plt.subplots(ncols=2, figsize=(10,5))\n",
    "    sns.countplot(x=raw_data_train[col_name], palette='Set2', ax=ax[0]).set(title=col_name+' count plot')\n",
    "    sns.barplot(data=raw_data_train, x=col_name, y=\"Survived\", palette='Set2', ax=ax[1]).set(title=col_name+' bar chart')\n",
    "    plt.show()"
   ]
  },
  {
   "cell_type": "code",
   "execution_count": null,
   "metadata": {},
   "outputs": [],
   "source": [
    "raw_data_train['Survived_str'] = raw_data_train['Survived'].apply(lambda x: 'deth' if x == 0 else 'Survive')\n",
    "columns = ['Age', 'SibSp', 'Parch', 'Fare']\n",
    "for col_name in columns:\n",
    "    fig, ax = plt.subplots(ncols=2, figsize=(13,5))\n",
    "    sns.boxplot(x=raw_data_train[col_name], ax=ax[0], palette='Set2')\n",
    "    sns.boxplot(data=raw_data_train, x=col_name, y=\"Survived_str\", ax=ax[1], palette='Set2')\n",
    "    plt.show()"
   ]
  },
  {
   "cell_type": "code",
   "execution_count": null,
   "metadata": {},
   "outputs": [],
   "source": [
    "train = raw_data_train.copy()\n",
    "test = raw_data_test.copy()\n",
    "submission = raw_data_submission.copy()\n",
    "\n",
    "mean_age = train['Age'].mean()\n",
    "mean_fare = train['Fare'].mean()\n",
    "\n",
    "# ‘Age’ ‘Fare’ feature의 Null 값을 각 feature의 평균(mean)값으로 대체\n",
    "train['Age'] = train['Age'].fillna(mean_age)\n",
    "test['Age'] = test['Age'].fillna(mean_age)\n",
    "train['Fare'] = train['Fare'].fillna(mean_fare)\n",
    "test['Fare'] = test['Fare'].fillna(mean_fare)"
   ]
  },
  {
   "cell_type": "code",
   "execution_count": null,
   "metadata": {},
   "outputs": [],
   "source": [
    "train = train[train['Parch'] <= 5]\n",
    "train = train[train['Fare'] <= 300]"
   ]
  },
  {
   "cell_type": "markdown",
   "metadata": {},
   "source": [
    "### 4. 데이터 학습"
   ]
  },
  {
   "cell_type": "code",
   "execution_count": null,
   "metadata": {},
   "outputs": [],
   "source": [
    "train_x = train.drop(columns='Survived')\n",
    "train_y = train['Survived']\n",
    "\n",
    "from sklearn.model_selection import train_test_split\n",
    "train_x, val_x, train_y, val_y  = train_test_split(train_x, train_y, test_size=0.2, random_state=0)\n",
    "\n",
    "import statsmodels.api as sm\n",
    "\n",
    "train_dataset = train_x.copy()\n",
    "train_dataset['Survived'] = train_y\n",
    "\n",
    "formula = \"\"\"\n",
    "Survived ~ C(Pclass)+ C(Sex) + scale(Age) + scale(SibSp) + scale(Parch) + scale(Fare) + C(Embarked)\n",
    "\"\"\"\n",
    "model = sm.Logit.from_formula(formula, data=train_dataset)  \n",
    "result = model.fit()  \n",
    "\n",
    "print(result.summary())"
   ]
  },
  {
   "cell_type": "code",
   "execution_count": null,
   "metadata": {},
   "outputs": [],
   "source": [
    "y_pred = result.predict(val_x)\n",
    "y_pred = y_pred.apply(lambda x: 1 if x >= 0.5 else 0)\n",
    "\n",
    "from sklearn.metrics import confusion_matrix\n",
    "print(confusion_matrix(val_y, y_pred))\n",
    "\n",
    "from sklearn.metrics import classification_report\n",
    "print(classification_report(val_y, y_pred))"
   ]
  },
  {
   "cell_type": "markdown",
   "metadata": {},
   "source": [
    "### 5. CSV파일로 저장"
   ]
  },
  {
   "cell_type": "code",
   "execution_count": null,
   "metadata": {},
   "outputs": [],
   "source": [
    "y_pred = result.predict(test)\n",
    "y_pred = y_pred.apply(lambda x: 1 if x >= 0.5 else 0)\n",
    "\n",
    "submission['Survived'] = y_pred\n",
    "submission.head(15)"
   ]
  },
  {
   "cell_type": "code",
   "execution_count": null,
   "metadata": {},
   "outputs": [],
   "source": [
    "submission.to_csv('submission.csv', index=False)"
   ]
  }
 ],
 "metadata": {
  "kernelspec": {
   "display_name": "base",
   "language": "python",
   "name": "python3"
  },
  "language_info": {
   "codemirror_mode": {
    "name": "ipython",
    "version": 3
   },
   "file_extension": ".py",
   "mimetype": "text/x-python",
   "name": "python",
   "nbconvert_exporter": "python",
   "pygments_lexer": "ipython3",
   "version": "3.11.5"
  }
 },
 "nbformat": 4,
 "nbformat_minor": 2
}
