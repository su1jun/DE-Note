{
 "cells": [
  {
   "cell_type": "code",
   "execution_count": null,
   "metadata": {},
   "outputs": [],
   "source": [
    "import numpy as np\n",
    "import statsmodels.api as sm\n",
    "import matplotlib.pyplot as plt\n",
    "\n",
    "# 가상의 데이터 생성\n",
    "np.random.seed(0)  # 결과의 일관성을 위해 시드 설정\n",
    "X = np.random.rand(100, 1) * 100  # 독립 변수 (0~100 사이의 값 100개)\n",
    "y = 3 * X + np.random.randn(100, 1) * 30  # 종속 변수 (기울기는 3, 잡음 추가)\n",
    "X_sm = sm.add_constant(X)\n",
    "\n",
    "# 데이터와 회귀선 시각화\n",
    "plt.scatter(X, y, color='skyblue')  # 원본 데이터 산점도\n",
    "plt.title('Simple Linear Regression')\n",
    "plt.xlabel('X')\n",
    "plt.ylabel('y')\n",
    "plt.show()"
   ]
  },
  {
   "cell_type": "code",
   "execution_count": null,
   "metadata": {},
   "outputs": [],
   "source": [
    "from sklearn.linear_model import LinearRegression\n",
    "\n",
    "model = LinearRegression()\n",
    "model.fit(X, y)"
   ]
  },
  {
   "cell_type": "code",
   "execution_count": null,
   "metadata": {},
   "outputs": [],
   "source": [
    "# 예측 및 모델 평가\n",
    "y_pred = model.predict(X)\n",
    "\n",
    "# 데이터와 회귀선 시각화\n",
    "plt.scatter(X, y, color='skyblue')  # 원본 데이터 산점도\n",
    "plt.plot(X, y_pred, color='red')  # 회귀선\n",
    "plt.title('Simple Linear Regression')\n",
    "plt.xlabel('X')\n",
    "plt.ylabel('y')\n",
    "plt.show()"
   ]
  },
  {
   "cell_type": "code",
   "execution_count": null,
   "metadata": {},
   "outputs": [],
   "source": [
    "# 상수항 추가\n",
    "X_sm = sm.add_constant(X)\n",
    "\n",
    "# OLS (Ordinary Least Squares) 모델 생성 및 학습\n",
    "model = sm.OLS(y, X_sm)\n",
    "results = model.fit()"
   ]
  },
  {
   "cell_type": "code",
   "execution_count": null,
   "metadata": {},
   "outputs": [],
   "source": [
    "# 요약 결과 출력\n",
    "print(results.summary())\n",
    "\n",
    "# 데이터와 회귀선 시각화\n",
    "plt.scatter(X, y, color='skyblue')  # 원본 데이터 산점도 (하늘색)\n",
    "plt.plot(X, results.predict(X_sm), color='lightcoral')  # 회귀선 (밝은 주황색)\n",
    "plt.title('Simple Linear Regression with Statsmodels')\n",
    "plt.xlabel('X')\n",
    "plt.ylabel('y')\n",
    "plt.show()"
   ]
  },
  {
   "cell_type": "code",
   "execution_count": null,
   "metadata": {},
   "outputs": [],
   "source": [
    "predicted_values = results.predict(X_sm)\n",
    "plt.scatter(predicted_values, y)\n",
    "plt.xlabel(\"Predicted Values\")\n",
    "plt.ylabel(\"Actual Values\")\n",
    "plt.title(\"Predicted vs. Actual Values\")\n",
    "plt.show()"
   ]
  },
  {
   "cell_type": "code",
   "execution_count": null,
   "metadata": {},
   "outputs": [],
   "source": [
    "print('Durbin-Watson:', sm.stats.durbin_watson(results.resid), '\\n')"
   ]
  },
  {
   "cell_type": "code",
   "execution_count": null,
   "metadata": {},
   "outputs": [],
   "source": [
    "print(results.summary()) # Durbin-Watson 확인"
   ]
  },
  {
   "cell_type": "code",
   "execution_count": null,
   "metadata": {},
   "outputs": [],
   "source": [
    "from scipy import stats\n",
    "\n",
    "# 잔차 계산\n",
    "residuals = results.resid\n",
    "\n",
    "# Shapiro-Wilk 테스트\n",
    "shapiro_test = stats.shapiro(residuals)\n",
    "print(\"Shapiro-Wilk Test:\\nStatistic:\", shapiro_test[0], \"\\np-Value:\", shapiro_test[1])\n",
    "\n",
    "# Kolmogorov-Smirnov(K-S) 검정\n",
    "ks_test = stats.kstest(residuals, 'norm')\n",
    "print(\"Kolmogorov-Smirnov Test:\\nStatistic:\", ks_test[0], \"\\np-Value:\", ks_test[1])"
   ]
  },
  {
   "cell_type": "code",
   "execution_count": null,
   "metadata": {},
   "outputs": [],
   "source": [
    "# Q-Q Plot\n",
    "plt.figure(figsize=(6, 4))\n",
    "sm.qqplot(residuals, line='s')\n",
    "plt.title('Normal Q-Q Plot')\n",
    "plt.show()"
   ]
  },
  {
   "cell_type": "code",
   "execution_count": null,
   "metadata": {},
   "outputs": [],
   "source": [
    "from statsmodels.stats.diagnostic import het_breuschpagan, het_goldfeldquandt\n",
    "\n",
    "# 잔차 계산\n",
    "residuals = results.resid\n",
    "\n",
    "# Breusch-Pagan 테스트\n",
    "bp_test = het_breuschpagan(residuals, results.model.exog)\n",
    "print(\"Breusch-Pagan Test:\\nStatistic:\", bp_test[0], \"\\np-Value:\", bp_test[1])"
   ]
  },
  {
   "cell_type": "code",
   "execution_count": null,
   "metadata": {},
   "outputs": [],
   "source": [
    "plt.scatter(predicted_values, results.resid)\n",
    "plt.xlabel(\"Predicted Values\")\n",
    "plt.ylabel(\"Residuals\")\n",
    "plt.title(\"Predicted Values vs. Residuals\")\n",
    "plt.axhline(y=0, color='r', linestyle='--')\n",
    "plt.show()"
   ]
  },
  {
   "cell_type": "code",
   "execution_count": null,
   "metadata": {},
   "outputs": [],
   "source": [
    "import pandas as pd\n",
    "\n",
    "# 데이터셋 생성\n",
    "np.random.seed(0)\n",
    "X1 = np.random.rand(100) * 10  # 첫 번째 독립 변수\n",
    "X2 = X1 + np.random.normal(0, 1, 100) * 2  # 두 번째 독립 변수, X1과 강한 상관 관계\n",
    "X3 = np.random.rand(100) * 10  # 세 번째 독립 변수, 상대적으로 독립적\n",
    "y = 5 + 2 * X1 + 3 * X2 + 7 * X3 + np.random.normal(0, 2, 100)  # 종속 변수\n",
    "\n",
    "# DataFrame으로 변환\n",
    "df = pd.DataFrame({'X1': X1, 'X2': X2, 'X3': X3, 'y': y})\n",
    "df"
   ]
  },
  {
   "cell_type": "code",
   "execution_count": null,
   "metadata": {},
   "outputs": [],
   "source": [
    "from statsmodels.stats.outliers_influence import variance_inflation_factor\n",
    "\n",
    "# VIF 계산\n",
    "X = df[['X1', 'X2', 'X3']]\n",
    "X = sm.add_constant(X)\n",
    "vif_data = pd.DataFrame()\n",
    "vif_data[\"feature\"] = X.columns\n",
    "vif_data[\"VIF\"] = [variance_inflation_factor(X.values, i) for i in range(X.shape[1])]\n",
    "\n",
    "print(vif_data)"
   ]
  }
 ],
 "metadata": {
  "language_info": {
   "name": "python"
  }
 },
 "nbformat": 4,
 "nbformat_minor": 2
}
