{
 "cells": [
  {
   "cell_type": "code",
   "execution_count": null,
   "metadata": {},
   "outputs": [],
   "source": [
    "import pandas as pd\n",
    "train = pd.read_csv('train.csv')\n",
    "\n",
    "print('요일의 고유값은 ', train['요일'].unique(), '입니다.')\n",
    "train.head(3)"
   ]
  },
  {
   "cell_type": "code",
   "execution_count": null,
   "metadata": {},
   "outputs": [],
   "source": [
    "import matplotlib.pyplot as plt\n",
    "\n",
    "bin = 10\n",
    "\n",
    "fig, hist_ax = plt.subplots()\n",
    "hist_ax.hist(x=train['석식계'], bins = bin)\n",
    "\n",
    "hist_ax.set_xlabel('석식계')\n",
    "hist_ax.set_ylabel('빈도')\n",
    "\n",
    "plt.show()"
   ]
  },
  {
   "cell_type": "code",
   "execution_count": null,
   "metadata": {},
   "outputs": [],
   "source": [
    "fig, line_ax = plt.subplots()\n",
    "line_ax.plot(train['일자'], train['석식계'])\n",
    "\n",
    "line_ax.set_xlabel('일자')\n",
    "line_ax.set_ylabel('석식계')\n",
    "\n",
    "ticks = [0, len(train)-1]\n",
    "line_ax.set_xticks(ticks)\n",
    "\n",
    "plt.show()"
   ]
  },
  {
   "cell_type": "code",
   "execution_count": null,
   "metadata": {},
   "outputs": [],
   "source": [
    "fig, scatter_ax = plt.subplots()\n",
    "scatter_ax.scatter(x=train['본사출장자수'], y=train['중식계'])\n",
    "\n",
    "scatter_ax.set_xlabel('본사출장자수')\n",
    "scatter_ax.set_ylabel('중식계')\n",
    "\n",
    "plt.show()"
   ]
  },
  {
   "cell_type": "code",
   "execution_count": null,
   "metadata": {},
   "outputs": [],
   "source": [
    "import seaborn as sns\n",
    "\n",
    "seaborn_hist_ax = sns.histplot(data = train, x = '현본사소속재택근무자수')\n",
    "seaborn_hist_ax.set_ylabel('빈도')\n",
    "plt.show()"
   ]
  },
  {
   "cell_type": "code",
   "execution_count": null,
   "metadata": {},
   "outputs": [],
   "source": [
    "seaborn_line_ax = sns.lineplot(data=train, x='일자', y='중식계')\n",
    "\n",
    "plt.xticks(ticks=[0, len(train)-1])\n",
    "\n",
    "plt.show()"
   ]
  },
  {
   "cell_type": "code",
   "execution_count": null,
   "metadata": {},
   "outputs": [],
   "source": [
    "seaborn_scatter_ax = sns.scatterplot(data=train, x='본사시간외근무명령서승인건수', y='석식계')\n",
    "plt.show()"
   ]
  }
 ],
 "metadata": {
  "language_info": {
   "name": "python"
  }
 },
 "nbformat": 4,
 "nbformat_minor": 2
}
